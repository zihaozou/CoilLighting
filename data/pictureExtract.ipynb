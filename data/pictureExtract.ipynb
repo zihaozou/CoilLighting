{
 "cells": [
  {
   "cell_type": "code",
   "execution_count": 1,
   "metadata": {},
   "outputs": [],
   "source": [
    "import numpy as np\n",
    "import pandas as pd\n",
    "from PIL import Image\n",
    "import itertools"
   ]
  },
  {
   "cell_type": "code",
   "execution_count": 2,
   "metadata": {},
   "outputs": [],
   "source": [
    "image=Image.open('01.png')"
   ]
  },
  {
   "cell_type": "code",
   "execution_count": 3,
   "metadata": {},
   "outputs": [],
   "source": [
    "imageArr=np.asarray(image)"
   ]
  },
  {
   "cell_type": "code",
   "execution_count": 4,
   "metadata": {},
   "outputs": [],
   "source": [
    "imageArr=imageArr/255"
   ]
  },
  {
   "cell_type": "code",
   "execution_count": 5,
   "metadata": {},
   "outputs": [],
   "source": [
    "fullX=np.array(list(itertools.product(range(256),range(256)))).astype(np.single)\n",
    "fullX=fullX/255\n",
    "fully=imageArr.reshape(-1,1).astype(np.single)"
   ]
  },
  {
   "cell_type": "code",
   "execution_count": 6,
   "metadata": {},
   "outputs": [],
   "source": [
    "Xcsv=pd.DataFrame(fullX)\n",
    "ycsv=pd.DataFrame(fully)\n",
    "Xcsv.to_csv('imageX.csv')\n",
    "ycsv.to_csv('imagey.csv')\n",
    "imagecsv=pd.DataFrame(imageArr)\n",
    "imagecsv.to_csv('01image.csv')"
   ]
  }
 ],
 "metadata": {
  "interpreter": {
   "hash": "4163e3761903ec3b885c53dd89792d61078312b6005e76f7ccd5ae9bbecab266"
  },
  "kernelspec": {
   "display_name": "Python 3.7.11 64-bit ('torch1.6': conda)",
   "language": "python",
   "name": "python3"
  },
  "language_info": {
   "codemirror_mode": {
    "name": "ipython",
    "version": 3
   },
   "file_extension": ".py",
   "mimetype": "text/x-python",
   "name": "python",
   "nbconvert_exporter": "python",
   "pygments_lexer": "ipython3",
   "version": "3.7.11"
  },
  "orig_nbformat": 4
 },
 "nbformat": 4,
 "nbformat_minor": 2
}
