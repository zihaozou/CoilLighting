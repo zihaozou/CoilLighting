{
 "cells": [
  {
   "cell_type": "code",
   "execution_count": 4,
   "metadata": {},
   "outputs": [],
   "source": [
    "import torch\n",
    "from DataFidelities.pytorch_radon.radon import Radon,IRadon\n",
    "import numpy as np\n",
    "import pandas as pd\n",
    "from scipy.io import loadmat\n",
    "from utils.util import addwgn_torch\n",
    "from math import sqrt\n",
    "import pickle\n",
    "import itertools"
   ]
  },
  {
   "cell_type": "code",
   "execution_count": 5,
   "metadata": {},
   "outputs": [],
   "source": [
    "CTImageMat=loadmat('CT_images_preprocessed.mat')\n",
    "CTImageArr=CTImageMat['img_cropped'][:,:,0]\n",
    "CTImageTensor=torch.tensor(CTImageArr,dtype=torch.float).unsqueeze(0).unsqueeze(0)\n",
    "theta = torch.tensor(np.linspace(0., 180, 360, endpoint=False),dtype=torch.float)\n",
    "fp=Radon(in_size=512,theta=theta,circle=False)\n",
    "sino=fp(CTImageTensor)\n",
    "noisySino=addwgn_torch(sino,50,0,sqrt(2*512**2)).detach().clone()\n",
    "with open('noisyView360_clamp.pk', 'wb') as f:\n",
    "    pickle.dump(noisySino.cpu(), f)"
   ]
  },
  {
   "cell_type": "code",
   "execution_count": 6,
   "metadata": {},
   "outputs": [],
   "source": [
    "fullX=torch.tensor(list(itertools.product(range(noisySino.shape[2]),range(noisySino.shape[3])))).float()\n",
    "fullX[:,0]=fullX[:,0]/noisySino.shape[2]\n",
    "fullX[:,1]=fullX[:,1]/noisySino.shape[3]\n",
    "fully=noisySino.reshape((-1,1))\n",
    "X=fullX.reshape((-1,360,2))[:,::4,:].reshape((-1,2)).detach().clone()\n",
    "y=noisySino.squeeze()[:,::4].reshape((-1,1)).detach().clone()"
   ]
  },
  {
   "cell_type": "code",
   "execution_count": 10,
   "metadata": {},
   "outputs": [],
   "source": [
    "Xcsv=pd.DataFrame(X.numpy())"
   ]
  },
  {
   "cell_type": "code",
   "execution_count": 11,
   "metadata": {},
   "outputs": [
    {
     "name": "stdout",
     "output_type": "stream",
     "text": [
      "              0         1\n",
      "0      0.000000  0.000000\n",
      "1      0.000000  0.011111\n",
      "2      0.000000  0.022222\n",
      "3      0.000000  0.033333\n",
      "4      0.000000  0.044444\n",
      "...         ...       ...\n",
      "65245  0.998621  0.944444\n",
      "65246  0.998621  0.955556\n",
      "65247  0.998621  0.966667\n",
      "65248  0.998621  0.977778\n",
      "65249  0.998621  0.988889\n",
      "\n",
      "[65250 rows x 2 columns]\n"
     ]
    }
   ],
   "source": [
    "print(Xcsv)"
   ]
  },
  {
   "cell_type": "code",
   "execution_count": 12,
   "metadata": {},
   "outputs": [],
   "source": [
    "ycsv=pd.DataFrame(y.numpy())"
   ]
  },
  {
   "cell_type": "code",
   "execution_count": 14,
   "metadata": {},
   "outputs": [
    {
     "name": "stdout",
     "output_type": "stream",
     "text": [
      "              0\n",
      "0      0.465801\n",
      "1      0.675858\n",
      "2      0.264182\n",
      "3      0.225763\n",
      "4      0.488038\n",
      "...         ...\n",
      "65245  0.000000\n",
      "65246  0.000000\n",
      "65247  0.392846\n",
      "65248  0.000000\n",
      "65249  0.219304\n",
      "\n",
      "[65250 rows x 1 columns]\n"
     ]
    }
   ],
   "source": [
    "print(ycsv)"
   ]
  },
  {
   "cell_type": "code",
   "execution_count": 15,
   "metadata": {},
   "outputs": [],
   "source": [
    "yNormalized=y/sqrt(2*512**2)# (y-min)/(max-min)"
   ]
  },
  {
   "cell_type": "code",
   "execution_count": 16,
   "metadata": {},
   "outputs": [
    {
     "data": {
      "text/plain": [
       "tensor([[0.0006],\n",
       "        [0.0009],\n",
       "        [0.0004],\n",
       "        ...,\n",
       "        [0.0005],\n",
       "        [0.0000],\n",
       "        [0.0003]])"
      ]
     },
     "execution_count": 16,
     "metadata": {},
     "output_type": "execute_result"
    }
   ],
   "source": [
    "yNormalized"
   ]
  },
  {
   "cell_type": "code",
   "execution_count": 18,
   "metadata": {},
   "outputs": [],
   "source": [
    "yNcsv=pd.DataFrame(yNormalized.numpy())"
   ]
  },
  {
   "cell_type": "code",
   "execution_count": 19,
   "metadata": {},
   "outputs": [],
   "source": [
    "Xcsv.to_csv('X_new.csv')\n",
    "ycsv.to_csv('y_new.csv')\n",
    "yNcsv.to_csv('yN_new.csv')"
   ]
  },
  {
   "cell_type": "code",
   "execution_count": null,
   "metadata": {},
   "outputs": [],
   "source": []
  }
 ],
 "metadata": {
  "interpreter": {
   "hash": "4163e3761903ec3b885c53dd89792d61078312b6005e76f7ccd5ae9bbecab266"
  },
  "kernelspec": {
   "display_name": "Python 3.7.11 64-bit ('torch1.6': conda)",
   "language": "python",
   "name": "python3"
  },
  "language_info": {
   "codemirror_mode": {
    "name": "ipython",
    "version": 3
   },
   "file_extension": ".py",
   "mimetype": "text/x-python",
   "name": "python",
   "nbconvert_exporter": "python",
   "pygments_lexer": "ipython3",
   "version": "3.7.11"
  },
  "orig_nbformat": 4
 },
 "nbformat": 4,
 "nbformat_minor": 2
}
