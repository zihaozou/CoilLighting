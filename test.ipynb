{
 "cells": [
  {
   "cell_type": "code",
   "execution_count": 1,
   "metadata": {},
   "outputs": [],
   "source": [
    "import torch\n",
    "import pandas as pd\n",
    "import numpy as np\n",
    "from torch.utils.data import Dataset,DataLoader\n",
    "import pytorch_lightning as pl\n",
    "from DEQLighting import DEQFixedPoint,LinearBlock,anderson,FFM,pictureCoilwithDEQ\n",
    "import torch.nn as nn\n"
   ]
  },
  {
   "cell_type": "code",
   "execution_count": 2,
   "metadata": {},
   "outputs": [
    {
     "name": "stdout",
     "output_type": "stream",
     "text": [
      "{\n",
      "  \"encoder\": [],\n",
      "  \"DEQ\": [\n",
      "    {\n",
      "      \"numNeurons\": 256,\n",
      "      \"numLayers\": 6,\n",
      "      \"skipStride\": 2,\n",
      "      \"addx\": 5,\n",
      "      \"acti\": \"relu\",\n",
      "      \"lastActi\": \"relu\"\n",
      "    }\n",
      "  ],\n",
      "  \"decoder\": {\n",
      "    \"extraLayers\": [\n",
      "      {\n",
      "        \"type\": \"fc\",\n",
      "        \"acti\": \"relu\",\n",
      "        \"numNeurons\": 256\n",
      "      },\n",
      "      {\n",
      "        \"type\": \"fc\",\n",
      "        \"acti\": \"relu\",\n",
      "        \"numNeurons\": 256\n",
      "      },\n",
      "      {\n",
      "        \"type\": \"skip\",\n",
      "        \"acti\": \"relu\",\n",
      "        \"numNeurons\": 256\n",
      "      },\n",
      "      {\n",
      "        \"type\": \"fc\",\n",
      "        \"acti\": \"relu\",\n",
      "        \"numNeurons\": 256\n",
      "      }\n",
      "    ],\n",
      "    \"sigmoidOutput\": true\n",
      "  }\n",
      "}\n"
     ]
    }
   ],
   "source": [
    "withDEQ=pictureCoilwithDEQ.load_from_checkpoint('experiment/PictureWithDEQ.ckpt')"
   ]
  },
  {
   "cell_type": "code",
   "execution_count": null,
   "metadata": {},
   "outputs": [],
   "source": [
    "X"
   ]
  }
 ],
 "metadata": {
  "interpreter": {
   "hash": "4163e3761903ec3b885c53dd89792d61078312b6005e76f7ccd5ae9bbecab266"
  },
  "kernelspec": {
   "display_name": "Python 3.7.11 64-bit ('torch1.6': conda)",
   "language": "python",
   "name": "python3"
  },
  "language_info": {
   "codemirror_mode": {
    "name": "ipython",
    "version": 3
   },
   "file_extension": ".py",
   "mimetype": "text/x-python",
   "name": "python",
   "nbconvert_exporter": "python",
   "pygments_lexer": "ipython3",
   "version": "3.7.11"
  },
  "orig_nbformat": 4
 },
 "nbformat": 4,
 "nbformat_minor": 2
}
