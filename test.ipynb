{
 "cells": [
  {
   "cell_type": "code",
   "execution_count": null,
   "metadata": {},
   "outputs": [],
   "source": [
    "import torch\n",
    "import pandas as pd\n",
    "import numpy as np\n",
    "from torch.utils.data import Dataset,DataLoader\n",
    "import pytorch_lightning as pl\n",
    "from DEQLighting import DEQFixedPoint,LinearBlock,anderson\n",
    "import torch.nn as nn"
   ]
  },
  {
   "cell_type": "code",
   "execution_count": null,
   "metadata": {},
   "outputs": [],
   "source": [
    "class MyDataset(Dataset):\n",
    "    def __init__(self) -> None:\n",
    "        super().__init__()\n",
    "        self.data=pd.read_excel('Dry_Bean_Dataset.xlsx',index_col=None)\n",
    "        self.data['Class']=self.data['Class'].astype('category')\n",
    "        cat_columns = self.data.select_dtypes(['category']).columns\n",
    "        self.data[cat_columns] = self.data[cat_columns].apply(lambda x: x.cat.codes)\n",
    "    def __len__(self) -> int:\n",
    "        return len(self.data)\n",
    "    def __getitem__(self, index: int):\n",
    "        return (torch.from_numpy(self.data.loc[index,self.data.columns!='Class'].to_numpy()).float(),torch.from_numpy(np.asarray([self.data.loc[index,'Class']])).squeeze().long())"
   ]
  },
  {
   "cell_type": "code",
   "execution_count": null,
   "metadata": {},
   "outputs": [],
   "source": [
    "class MyDEQLayer(nn.Module):\n",
    "    def __init__(self):\n",
    "        super(MyDEQLayer,self).__init__()\n",
    "        self.lb1=LinearBlock(256,512,True)\n",
    "        self.lb2=LinearBlock(512,512,True)\n",
    "        self.lb3=LinearBlock(512,512,True)\n",
    "        self.lb4=LinearBlock(512,256,True)\n",
    "        self.lb5=LinearBlock(256,256,True)\n",
    "    def forward(self,z,x,skip=None):\n",
    "        curr=self.lb1(z)\n",
    "        curr=self.lb2(curr)\n",
    "        curr=self.lb3(curr)\n",
    "        curr=self.lb4(curr)\n",
    "        curr=self.lb5(curr+x)\n",
    "\n",
    "        return curr\n",
    "\n",
    "class MyModel(pl.LightningModule):\n",
    "    def __init__(self,batch_size,lr):\n",
    "        super().__init__()\n",
    "        self.encoder=LinearBlock(16,256,True)\n",
    "        self.deq=DEQFixedPoint(MyDEQLayer(),anderson,tol=1e-4, max_iter=50, m=5)\n",
    "        #self.lb1=LinearBlock(256,256,True)\n",
    "        #self.lb2=LinearBlock(256,256,True)\n",
    "        #self.lb3=LinearBlock(256,256,True)\n",
    "        self.decoder=nn.Sequential(nn.Linear(256,7))\n",
    "        self.entropy=nn.CrossEntropyLoss()\n",
    "        self.batch_size=batch_size\n",
    "        self.lr=lr\n",
    "    def forward(self,x):\n",
    "        curr=self.encoder(x)\n",
    "        curr=self.deq(curr,None)\n",
    "        return self.decoder(curr)\n",
    "    def training_step(self,batch,batch_idx):\n",
    "        X,y=batch\n",
    "        pred=self(X)\n",
    "        loss=self.entropy(pred,y)\n",
    "        self.log(\"train_loss\", loss, on_step=False, on_epoch=True, prog_bar=True, logger=True)\n",
    "        return loss\n",
    "    def configure_optimizers(self):\n",
    "        optimizer = torch.optim.Adam(self.parameters(), lr=self.lr)\n",
    "        return {\n",
    "                \"optimizer\": optimizer,\n",
    "                \"lr_scheduler\": {\n",
    "                    \"scheduler\": torch.optim.lr_scheduler.CosineAnnealingLR(optimizer, 2000*13612, eta_min=1e-6),\n",
    "                    \"monitor\": \"train_loss\",\n",
    "                    \"frequency\": 1,\n",
    "                    \"interval\": \"epoch\"\n",
    "                    }\n",
    "                }\n",
    "    def train_dataloader(self):\n",
    "        trainLoader=DataLoader(MyDataset(),num_workers=8,pin_memory=True,batch_size=self.batch_size,shuffle=True)\n",
    "        return trainLoader\n"
   ]
  },
  {
   "cell_type": "code",
   "execution_count": null,
   "metadata": {},
   "outputs": [],
   "source": [
    "model=MyModel(10000,0.01)"
   ]
  },
  {
   "cell_type": "code",
   "execution_count": null,
   "metadata": {},
   "outputs": [],
   "source": [
    "trainer=pl.Trainer(gpus=1,log_every_n_steps=1,max_epochs=2000)"
   ]
  },
  {
   "cell_type": "code",
   "execution_count": null,
   "metadata": {},
   "outputs": [],
   "source": [
    "trainer.fit(model)"
   ]
  },
  {
   "cell_type": "code",
   "execution_count": null,
   "metadata": {},
   "outputs": [],
   "source": []
  }
 ],
 "metadata": {
  "interpreter": {
   "hash": "4163e3761903ec3b885c53dd89792d61078312b6005e76f7ccd5ae9bbecab266"
  },
  "kernelspec": {
   "display_name": "Python 3.7.11 64-bit ('torch1.6': conda)",
   "language": "python",
   "name": "python3"
  },
  "language_info": {
   "codemirror_mode": {
    "name": "ipython",
    "version": 3
   },
   "file_extension": ".py",
   "mimetype": "text/x-python",
   "name": "python",
   "nbconvert_exporter": "python",
   "pygments_lexer": "ipython3",
   "version": "3.7.11"
  },
  "orig_nbformat": 4
 },
 "nbformat": 4,
 "nbformat_minor": 2
}
