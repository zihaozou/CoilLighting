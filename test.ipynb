{
 "cells": [
  {
   "cell_type": "code",
   "execution_count": 1,
   "metadata": {},
   "outputs": [],
   "source": [
    "import torch\n",
    "import pandas as pd\n",
    "import numpy as np\n",
    "from torch.utils.data import Dataset,DataLoader\n",
    "import pytorch_lightning as pl\n",
    "from DEQLighting import DEQFixedPoint,LinearBlock,anderson,FFM\n",
    "import torch.nn as nn\n"
   ]
  },
  {
   "cell_type": "code",
   "execution_count": 2,
   "metadata": {},
   "outputs": [],
   "source": [
    "input=torch.Tensor([0.23,0.38]).unsqueeze(0)"
   ]
  },
  {
   "cell_type": "code",
   "execution_count": 3,
   "metadata": {},
   "outputs": [],
   "source": [
    "ffm=FFM('loglinear',10,2)"
   ]
  },
  {
   "cell_type": "code",
   "execution_count": 4,
   "metadata": {},
   "outputs": [],
   "source": [
    "for l in range(10):\n",
    "    cur_freq = torch.cat([torch.sin(2**l * np.pi * input), \n",
    "                            torch.cos(2**l * np.pi * input)], dim=1)\n",
    "    if l is 0:\n",
    "        tot_freq = cur_freq\n",
    "    else:\n",
    "        tot_freq = torch.cat([tot_freq, cur_freq], dim=1)"
   ]
  },
  {
   "cell_type": "code",
   "execution_count": 5,
   "metadata": {},
   "outputs": [],
   "source": [
    "ffmoutput=ffm(input)"
   ]
  },
  {
   "cell_type": "code",
   "execution_count": 6,
   "metadata": {},
   "outputs": [
    {
     "data": {
      "text/plain": [
       "tensor([[ 0.6613,  0.9298,  0.7501,  0.3681,  0.9921,  0.6845,  0.1253, -0.7290,\n",
       "          0.2487, -0.9980, -0.9686,  0.0628, -0.4818, -0.1253,  0.8763, -0.9921,\n",
       "         -0.8443,  0.2487,  0.5358,  0.9686, -0.9048,  0.4818, -0.4258,  0.8763,\n",
       "          0.7705,  0.8443, -0.6374,  0.5358, -0.9823,  0.9048, -0.1874, -0.4258,\n",
       "          0.3681, -0.7705, -0.9298, -0.6374, -0.6845,  0.9823,  0.7290, -0.1874]])"
      ]
     },
     "execution_count": 6,
     "metadata": {},
     "output_type": "execute_result"
    }
   ],
   "source": [
    "tot_freq"
   ]
  },
  {
   "cell_type": "code",
   "execution_count": 7,
   "metadata": {},
   "outputs": [
    {
     "data": {
      "text/plain": [
       "tensor([[ 0.6613,  0.9298,  0.7501,  0.3681,  0.9921,  0.6845,  0.1253, -0.7290,\n",
       "          0.2487, -0.9980, -0.9686,  0.0628, -0.4818, -0.1253,  0.8763, -0.9921,\n",
       "         -0.8443,  0.2487,  0.5358,  0.9686, -0.9048,  0.4818, -0.4258,  0.8763,\n",
       "          0.7705,  0.8443, -0.6374,  0.5358, -0.9823,  0.9048, -0.1874, -0.4258,\n",
       "          0.3681, -0.7705, -0.9298, -0.6374, -0.6845,  0.9823,  0.7290, -0.1874]])"
      ]
     },
     "execution_count": 7,
     "metadata": {},
     "output_type": "execute_result"
    }
   ],
   "source": [
    "ffmoutput"
   ]
  },
  {
   "cell_type": "code",
   "execution_count": null,
   "metadata": {},
   "outputs": [],
   "source": []
  }
 ],
 "metadata": {
  "interpreter": {
   "hash": "4163e3761903ec3b885c53dd89792d61078312b6005e76f7ccd5ae9bbecab266"
  },
  "kernelspec": {
   "display_name": "Python 3.7.11 64-bit ('torch1.6': conda)",
   "language": "python",
   "name": "python3"
  },
  "language_info": {
   "codemirror_mode": {
    "name": "ipython",
    "version": 3
   },
   "file_extension": ".py",
   "mimetype": "text/x-python",
   "name": "python",
   "nbconvert_exporter": "python",
   "pygments_lexer": "ipython3",
   "version": "3.7.11"
  },
  "orig_nbformat": 4
 },
 "nbformat": 4,
 "nbformat_minor": 2
}
