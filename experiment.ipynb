{
 "cells": [
  {
   "cell_type": "code",
   "execution_count": null,
   "metadata": {},
   "outputs": [],
   "source": [
    "import torch\n",
    "import pytorch_lightning as pl\n",
    "from DEQLighting import DEQDataset,CoilwithDEQ,LinearBlock,pictureCoilwithDEQ\n",
    "import torch.nn as nn\n",
    "import json\n",
    "from tkinter import filedialog as fd"
   ]
  },
  {
   "cell_type": "code",
   "execution_count": null,
   "metadata": {},
   "outputs": [],
   "source": [
    "numEpoch=3000"
   ]
  },
  {
   "cell_type": "code",
   "execution_count": null,
   "metadata": {},
   "outputs": [],
   "source": [
    "filename = fd.askopenfilename()\n",
    "with open(filename) as jfile:\n",
    "    ModelStruct=json.load(jfile)"
   ]
  },
  {
   "cell_type": "code",
   "execution_count": null,
   "metadata": {},
   "outputs": [],
   "source": [
    "deq=pictureCoilwithDEQ(ModelStruct,\n",
    "                lr=.1,\n",
    "                numInput=2,\n",
    "                numEncodeNeurons=256,\n",
    "                showEvery=1,\n",
    "                L=20,\n",
    "                norm=True,\n",
    "                tmax=numEpoch,\n",
    "                batch_size=65536,\n",
    "                XPath='data/imageX.csv',\n",
    "                yPath='data/imagey.csv',\n",
    "                fullXPath='data/imageX.csv',\n",
    "                fullyPath='data/imagey.csv',\n",
    "                originImagePath='data/01image.csv',)"
   ]
  },
  {
   "cell_type": "code",
   "execution_count": null,
   "metadata": {},
   "outputs": [],
   "source": [
    "trainer=pl.Trainer(gpus=1,log_every_n_steps=1,max_epochs=numEpoch,default_root_dir='experiment',check_val_every_n_epoch=5,num_sanity_val_steps=0)"
   ]
  },
  {
   "cell_type": "code",
   "execution_count": 6,
   "metadata": {},
   "outputs": [],
   "source": [
    "trainer.fit(deq)"
   ]
  },
  {
   "cell_type": "code",
   "execution_count": null,
   "metadata": {},
   "outputs": [],
   "source": [
    "trainer.save_checkpoint('experiment/unnormalized.ckpt')"
   ]
  }
 ],
 "metadata": {
  "interpreter": {
   "hash": "4163e3761903ec3b885c53dd89792d61078312b6005e76f7ccd5ae9bbecab266"
  },
  "kernelspec": {
   "display_name": "Python 3.7.11 64-bit ('torch1.6': conda)",
   "language": "python",
   "name": "python3"
  },
  "language_info": {
   "codemirror_mode": {
    "name": "ipython",
    "version": 3
   },
   "file_extension": ".py",
   "mimetype": "text/x-python",
   "name": "python",
   "nbconvert_exporter": "python",
   "pygments_lexer": "ipython3",
   "version": "3.7.11"
  },
  "orig_nbformat": 4
 },
 "nbformat": 4,
 "nbformat_minor": 2
}
